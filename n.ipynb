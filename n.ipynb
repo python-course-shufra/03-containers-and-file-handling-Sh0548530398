{
 "cells": [
  {
   "cell_type": "code",
   "execution_count": null,
   "metadata": {},
   "outputs": [],
   "source": [
    "classroom = [\n",
    "    {\n",
    "        'name': 'Alice',\n",
    "        'email': 'alice@example.com',\n",
    "        'grades': [\n",
    "            ('math', 91),\n",
    "            ('english', 78),\n",
    "            ('math', 90),\n",
    "            ('history', 34),\n",
    "            ('math', 95),\n",
    "        ],\n",
    "    },\n",
    "    {\n",
    "        'name': 'Bob',\n",
    "        'email': 'bob@example.com',\n",
    "        'grades': [\n",
    "            ('math', 85),\n",
    "            ('english', 92),\n",
    "            ('history', 75),\n",
    "        ],\n",
    "    },\n",
    "    {\n",
    "        'name': 'Charlie',\n",
    "        'email': 'charlie@example.com',\n",
    "        'grades': [\n",
    "            ('physics', 78),\n",
    "            ('english', 81),\n",
    "            ('english', 89),\n",
    "            ('history', 68),\n",
    "            ('english', 82),\n",
    "            ('physics', 91),\n",
    "        ],\n",
    "    },\n",
    "]\n",
    "\n"
   ]
  },
  {
   "cell_type": "code",
   "execution_count": null,
   "metadata": {},
   "outputs": [],
   "source": [
    "def add_student(name, email=None):\n",
    "    if email:\n",
    "      classroom.append({'name':name ,'email':email, 'grades':[]})\n",
    "    else: \n",
    "      classroom.append({'name':name ,'email':name.lower()+'@example.com', 'grades':[]})\n",
    "         "
   ]
  },
  {
   "cell_type": "code",
   "execution_count": null,
   "metadata": {},
   "outputs": [],
   "source": [
    "    classroom.append(1)\n"
   ]
  },
  {
   "cell_type": "code",
   "execution_count": null,
   "metadata": {},
   "outputs": [],
   "source": [
    "   classroom.append({'name':\"name\" })\n"
   ]
  },
  {
   "cell_type": "code",
   "execution_count": null,
   "metadata": {},
   "outputs": [
    {
     "name": "stdout",
     "output_type": "stream",
     "text": [
      "{'name': 'Shoshi', 'email': 'shoshi@example.com', 'grades': []}\n"
     ]
    }
   ],
   "source": [
    "print(classroom[-1])"
   ]
  },
  {
   "cell_type": "code",
   "execution_count": null,
   "metadata": {},
   "outputs": [],
   "source": [
    "add_student('Shoshi')"
   ]
  },
  {
   "cell_type": "code",
   "execution_count": null,
   "metadata": {},
   "outputs": [],
   "source": [
    "def index(name):\n",
    "    for i in classroom:\n",
    "        if i['name']==name:\n",
    "            return classroom.index(i)"
   ]
  },
  {
   "cell_type": "code",
   "execution_count": null,
   "metadata": {},
   "outputs": [
    {
     "name": "stdout",
     "output_type": "stream",
     "text": [
      "2\n"
     ]
    }
   ],
   "source": [
    "print(index('Charlie'))"
   ]
  },
  {
   "cell_type": "code",
   "execution_count": null,
   "metadata": {},
   "outputs": [],
   "source": [
    "def delete_student(name):\n",
    "    i=index(name)\n",
    "    del classroom[i]"
   ]
  },
  {
   "cell_type": "code",
   "execution_count": null,
   "metadata": {},
   "outputs": [],
   "source": [
    "delete_student('Charlie')"
   ]
  },
  {
   "cell_type": "code",
   "execution_count": null,
   "metadata": {},
   "outputs": [],
   "source": [
    "def set_email(name, email):\n",
    "     i=index(name)\n",
    "     classroom[i]['email']=email"
   ]
  },
  {
   "cell_type": "code",
   "execution_count": null,
   "metadata": {},
   "outputs": [],
   "source": [
    "set_email('Charlie','gghhh2ghh@hh')"
   ]
  },
  {
   "cell_type": "code",
   "execution_count": null,
   "metadata": {},
   "outputs": [
    {
     "name": "stdout",
     "output_type": "stream",
     "text": [
      "{'name': 'Charlie', 'email': 'gghhh2ghh@hh', 'grades': [('physics', 78), ('english', 81), ('english', 89), ('history', 68), ('english', 82), ('physics', 91), ('jum', 99)]}\n"
     ]
    }
   ],
   "source": [
    "print(classroom[2])"
   ]
  },
  {
   "cell_type": "code",
   "execution_count": null,
   "metadata": {},
   "outputs": [],
   "source": [
    "def add_grade(name, profession, grade):\n",
    "     i=index(name)\n",
    "     t=profession,grade\n",
    "     classroom[i]['grades'].append(t)"
   ]
  },
  {
   "cell_type": "code",
   "execution_count": null,
   "metadata": {},
   "outputs": [],
   "source": [
    "add_grade('Charlie','jum',99)"
   ]
  },
  {
   "cell_type": "code",
   "execution_count": null,
   "metadata": {},
   "outputs": [],
   "source": [
    "def avg_grade(name, profession):\n",
    "     i=index(name)\n",
    "     sum=0\n",
    "     count=0\n",
    "     for i in classroom[i]['grades']:\n",
    "          if i[0]==profession:\n",
    "               sum+=i[1]\n",
    "               count+=1\n",
    "     return sum/count           \n",
    "    "
   ]
  },
  {
   "cell_type": "code",
   "execution_count": null,
   "metadata": {},
   "outputs": [
    {
     "name": "stdout",
     "output_type": "stream",
     "text": [
      "{'history', 'english', 'math'}\n"
     ]
    }
   ],
   "source": [
    "print(get_professions('Bob'))"
   ]
  },
  {
   "cell_type": "code",
   "execution_count": null,
   "metadata": {},
   "outputs": [],
   "source": [
    "def get_professions(name):\n",
    "     i=index(name)\n",
    "     s=set()\n",
    "     for i in classroom[i]['grades']:\n",
    "          s.add(i[0])\n",
    "     l=[]\n",
    "     l=s          \n",
    "     return l   "
   ]
  },
  {
   "cell_type": "code",
   "execution_count": null,
   "metadata": {},
   "outputs": [],
   "source": [
    "s='Shosh'"
   ]
  },
  {
   "cell_type": "code",
   "execution_count": null,
   "metadata": {},
   "outputs": [],
   "source": [
    "s=s.lower()"
   ]
  },
  {
   "cell_type": "code",
   "execution_count": null,
   "metadata": {},
   "outputs": [
    {
     "name": "stdout",
     "output_type": "stream",
     "text": [
      "shosh\n"
     ]
    }
   ],
   "source": [
    "print(s)"
   ]
  },
  {
   "cell_type": "code",
   "execution_count": null,
   "metadata": {},
   "outputs": [
    {
     "name": "stdout",
     "output_type": "stream",
     "text": [
      "Object `lower` not found.\n"
     ]
    }
   ],
   "source": [
    "lower?\n"
   ]
  },
  {
   "cell_type": "code",
   "execution_count": null,
   "metadata": {},
   "outputs": [],
   "source": [
    " subgect='math'\n",
    " num_question=4\n",
    " count=0\n",
    "   "
   ]
  },
  {
   "cell_type": "code",
   "execution_count": null,
   "metadata": {},
   "outputs": [],
   "source": []
  }
 ],
 "metadata": {
  "kernelspec": {
   "display_name": "Python 3",
   "language": "python",
   "name": "python3"
  },
  "language_info": {
   "codemirror_mode": {
    "name": "ipython",
    "version": 3
   },
   "file_extension": ".py",
   "mimetype": "text/x-python",
   "name": "python",
   "nbconvert_exporter": "python",
   "pygments_lexer": "ipython3",
   "version": "3.12.0"
  }
 },
 "nbformat": 4,
 "nbformat_minor": 2
}
