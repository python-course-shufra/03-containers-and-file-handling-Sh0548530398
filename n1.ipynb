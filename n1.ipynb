{
 "cells": [
  {
   "cell_type": "code",
   "execution_count": 37,
   "metadata": {},
   "outputs": [],
   "source": [
    " subgect='math'\n",
    " num_question=0\n",
    " i=0\n",
    "   "
   ]
  },
  {
   "cell_type": "code",
   "execution_count": 38,
   "metadata": {},
   "outputs": [
    {
     "name": "stdout",
     "output_type": "stream",
     "text": [
      "What is the result of 7 + 4? \n",
      "1. 9\n",
      "2. 14\n",
      "3. 18\n",
      "4. 11\n",
      "select your answer: \n"
     ]
    },
    {
     "name": "stderr",
     "output_type": "stream",
     "text": [
      "<string>:1: SyntaxWarning: invalid escape sequence '\\{'\n",
      "<>:1: SyntaxWarning: invalid escape sequence '\\{'\n",
      "<string>:1: SyntaxWarning: invalid escape sequence '\\{'\n",
      "<>:1: SyntaxWarning: invalid escape sequence '\\{'\n",
      "C:\\Users\\user1\\AppData\\Local\\Temp\\ipykernel_24236\\1871775693.py:1: SyntaxWarning: invalid escape sequence '\\{'\n",
      "  with open(f'questions\\{subgect}.txt')as read_file:\n"
     ]
    }
   ],
   "source": [
    "with open(f'questions\\{subgect}.txt')as read_file:\n",
    "        for line in read_file:\n",
    "            if(i==num_question):\n",
    "                i+=1\n",
    "                line=line.strip()\n",
    "                parts= line.split(';')\n",
    "                question=parts[0]\n",
    "                answer=parts[1]\n",
    "                spare_answers=parts[2].strip()\n",
    "                spare_answers=spare_answers.split(', ')\n",
    "                l=spare_answers\n",
    "                l.append(answer.strip())\n",
    "         #      l=random.shuffle(l)\n",
    "                print (question)\n",
    "                for j,an in enumerate(l):\n",
    "                    print(f'{j+1}. {an}')\n",
    "                print(\"select your answer: \")\n",
    "                \n"
   ]
  },
  {
   "cell_type": "code",
   "execution_count": 4,
   "metadata": {},
   "outputs": [],
   "source": [
    "input(\"select your answer: \")"
   ]
  },
  {
   "cell_type": "code",
   "execution_count": 34,
   "metadata": {},
   "outputs": [
    {
     "name": "stderr",
     "output_type": "stream",
     "text": [
      "<string>:2: SyntaxWarning: invalid escape sequence '\\{'\n",
      "<>:2: SyntaxWarning: invalid escape sequence '\\{'\n",
      "<string>:2: SyntaxWarning: invalid escape sequence '\\{'\n",
      "<>:2: SyntaxWarning: invalid escape sequence '\\{'\n",
      "C:\\Users\\user1\\AppData\\Local\\Temp\\ipykernel_24236\\3236061285.py:2: SyntaxWarning: invalid escape sequence '\\{'\n",
      "  with open(f'questions\\{subgect}.txt')as read_file:\n"
     ]
    }
   ],
   "source": [
    "def Questions(subgect,num_question,i):\n",
    "    with open(f'questions\\{subgect}.txt')as read_file:\n",
    "        for line in read_file:\n",
    "            if(i==num_question):\n",
    "                i+=1\n",
    "                line=line.strip()\n",
    "                parts= line.split(';')\n",
    "                question=parts[0]\n",
    "                answer=parts[1]\n",
    "                spare_answers=parts[2].strip()\n",
    "                spare_answers=spare_answers.split(', ')\n",
    "                l=spare_answers\n",
    "                l.append(answer.strip())\n",
    "         #      l=random.shuffle(l)\n",
    "                print (question)\n",
    "                for i,an in enumerate(l):\n",
    "                    print(f'{i+1}. {an}')\n",
    "                # choose=input(\"select your answer: \")\n",
    "                #להמיר את choose למספר\n",
    "                print(l[1]==answer)\n",
    "            else:\n",
    "                i+=2"
   ]
  },
  {
   "cell_type": "code",
   "execution_count": 35,
   "metadata": {},
   "outputs": [],
   "source": [
    " subgect='math'\n",
    " num_question=4\n",
    " i=num_question\n",
    "   "
   ]
  },
  {
   "cell_type": "code",
   "execution_count": 33,
   "metadata": {},
   "outputs": [
    {
     "name": "stdout",
     "output_type": "stream",
     "text": [
      "What is the result of 7 + 4? \n",
      "1. 9\n",
      "2. 14\n",
      "3. 18\n",
      "4. 11\n",
      "False\n",
      "What is the result of 7 + 4? \n",
      "1. 9\n",
      "2. 14\n",
      "3. 18\n",
      "4. 11\n",
      "False\n"
     ]
    }
   ],
   "source": [
    " for k in range (2):\n",
    "         Questions(subgect=subgect,num_question=num_question,i=i)\n"
   ]
  },
  {
   "cell_type": "code",
   "execution_count": null,
   "metadata": {},
   "outputs": [],
   "source": []
  }
 ],
 "metadata": {
  "kernelspec": {
   "display_name": "Python 3",
   "language": "python",
   "name": "python3"
  },
  "language_info": {
   "codemirror_mode": {
    "name": "ipython",
    "version": 3
   },
   "file_extension": ".py",
   "mimetype": "text/x-python",
   "name": "python",
   "nbconvert_exporter": "python",
   "pygments_lexer": "ipython3",
   "version": "3.12.0"
  }
 },
 "nbformat": 4,
 "nbformat_minor": 2
}
